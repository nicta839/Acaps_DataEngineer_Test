{
 "cells": [
  {
   "cell_type": "markdown",
   "id": "6fde1ec6",
   "metadata": {},
   "source": [
    "# Data exploration, cleaning and loading\n",
    "\n",
    "We load, explore and trasnform the data made available in this notebook for the task of classifiying articles based on their abstract among 4 classes (Computer Science, Mathematics, Physics and Statistics).\n",
    "\n",
    "We start with importing the necessary basic libraries and prepare some functions that will be of use."
   ]
  },
  {
   "cell_type": "code",
   "execution_count": 1,
   "id": "e977e41d",
   "metadata": {},
   "outputs": [],
   "source": [
    "import pandas as pd\n",
    "import numpy as np\n",
    "import matplotlib.pyplot as plt\n",
    "import time"
   ]
  },
  {
   "cell_type": "code",
   "execution_count": 2,
   "id": "09937d52",
   "metadata": {},
   "outputs": [],
   "source": [
    "def get_clean_df(input_df):\n",
    "    \"\"\"Function that creates a pd.DataFrame with only the necessary information from raw data\n",
    "    \n",
    "    This function separates the features (abstract) and isolates the classes of interest by transforming the one-hot\n",
    "    vectors into classes (0-3) for 'Computer Science','Mathematics', 'Physics', 'Statistics'\n",
    "    \"\"\"\n",
    "    \n",
    "    df_temp = pd.read_csv(input_df)\n",
    "    #Separate features (abstract) and target (class)\n",
    "    df_feature = df_temp['ABSTRACT']\n",
    "    # transform one-hot vector to class\n",
    "    df_target = df_temp[['Computer Science','Mathematics', 'Physics', 'Statistics']]\n",
    "    df_target = np.array(df_target)\n",
    "    df_target = pd.DataFrame([np.where(r==1)[0][0] for r in df_target])\n",
    "    #final dataframe\n",
    "    df_fin = pd.concat([df_feature, df_target], axis=1)\n",
    "    return df_fin\n",
    "\n",
    "def load_data(train_dir, test_dir):\n",
    "    \"\"\"Function that loads the data from the raw data file, calls the get_clean_data function\n",
    "    and returns a data/label dataframe\n",
    "    \n",
    "    \n",
    "    Takes training and test directories as input (must be strings) and saves the cleaned_data in an interim data file\n",
    "    \"\"\"\n",
    "    \n",
    "    train_df = get_clean_df(train_dir)\n",
    "    train_df.columns = ['Data', 'Label']\n",
    "    test_df = get_clean_df(test_dir)\n",
    "    test_df.columns = ['Data', 'Label']\n",
    "    train_df.to_csv('../data/interim/train_df.csv', index = False)\n",
    "    print('Training data loaded')\n",
    "    test_df.to_csv('../data/interim/test_df.csv', index = False)\n",
    "    print('Test data loaded')"
   ]
  },
  {
   "cell_type": "code",
   "execution_count": 3,
   "id": "183667dd",
   "metadata": {},
   "outputs": [
    {
     "name": "stdout",
     "output_type": "stream",
     "text": [
      "Training data loaded\n",
      "Test data loaded\n"
     ]
    }
   ],
   "source": [
    "# Use the function to load the data\n",
    "load_data(\"../data/raw/train_topics.csv\", \"../data/raw/test_topics.csv\")"
   ]
  },
  {
   "cell_type": "code",
   "execution_count": 4,
   "id": "05d33d9d",
   "metadata": {},
   "outputs": [
    {
     "data": {
      "text/html": [
       "<div>\n",
       "<style scoped>\n",
       "    .dataframe tbody tr th:only-of-type {\n",
       "        vertical-align: middle;\n",
       "    }\n",
       "\n",
       "    .dataframe tbody tr th {\n",
       "        vertical-align: top;\n",
       "    }\n",
       "\n",
       "    .dataframe thead th {\n",
       "        text-align: right;\n",
       "    }\n",
       "</style>\n",
       "<table border=\"1\" class=\"dataframe\">\n",
       "  <thead>\n",
       "    <tr style=\"text-align: right;\">\n",
       "      <th></th>\n",
       "      <th>Data</th>\n",
       "      <th>Label</th>\n",
       "    </tr>\n",
       "  </thead>\n",
       "  <tbody>\n",
       "    <tr>\n",
       "      <th>0</th>\n",
       "      <td>nanostructures with open shell transition meta...</td>\n",
       "      <td>2</td>\n",
       "    </tr>\n",
       "    <tr>\n",
       "      <th>1</th>\n",
       "      <td>stars are self-gravitating fluids inside which...</td>\n",
       "      <td>2</td>\n",
       "    </tr>\n",
       "    <tr>\n",
       "      <th>2</th>\n",
       "      <td>analyzing job hopping behavior was important c...</td>\n",
       "      <td>0</td>\n",
       "    </tr>\n",
       "    <tr>\n",
       "      <th>3</th>\n",
       "      <td>a need to reason about uncertainty inside larg...</td>\n",
       "      <td>3</td>\n",
       "    </tr>\n",
       "    <tr>\n",
       "      <th>4</th>\n",
       "      <td>inside this work, the many-body potential of n...</td>\n",
       "      <td>2</td>\n",
       "    </tr>\n",
       "  </tbody>\n",
       "</table>\n",
       "</div>"
      ],
      "text/plain": [
       "                                                Data  Label\n",
       "0  nanostructures with open shell transition meta...      2\n",
       "1  stars are self-gravitating fluids inside which...      2\n",
       "2  analyzing job hopping behavior was important c...      0\n",
       "3  a need to reason about uncertainty inside larg...      3\n",
       "4  inside this work, the many-body potential of n...      2"
      ]
     },
     "execution_count": 4,
     "metadata": {},
     "output_type": "execute_result"
    }
   ],
   "source": [
    "# Loading data from interim files\n",
    "\n",
    "df_train = pd.read_csv(\"../data/interim/train_df.csv\")\n",
    "df_test = pd.read_csv(\"../data/interim/test_df.csv\")\n",
    "df_train.head()"
   ]
  },
  {
   "cell_type": "code",
   "execution_count": 5,
   "id": "94ac6175",
   "metadata": {},
   "outputs": [
    {
     "name": "stdout",
     "output_type": "stream",
     "text": [
      "0    3366\n",
      "2    2972\n",
      "1    1570\n",
      "3    1538\n",
      "Name: Label, dtype: int64\n",
      "0    840\n",
      "2    785\n",
      "3    376\n",
      "1    353\n",
      "Name: Label, dtype: int64\n"
     ]
    }
   ],
   "source": [
    "# Dataset stats\n",
    "print(df_train['Label'].value_counts())\n",
    "print(df_test['Label'].value_counts())\n"
   ]
  },
  {
   "cell_type": "markdown",
   "id": "b115ae85",
   "metadata": {},
   "source": [
    "We notice that the classes are unbalanced. For the purposes of exploration, we will create 2 datasets: one that will keep the samples as is and another where we will undersample in order to avoid sample distribution bias when training our models."
   ]
  },
  {
   "cell_type": "code",
   "execution_count": 6,
   "id": "6586e57a",
   "metadata": {},
   "outputs": [],
   "source": [
    "# Undersampling train to create a more balanced dataset\n",
    "categories = sorted(df_train['Label'].unique())\n",
    "counts = df_train.groupby([\"Label\"]).size().reset_index(name='counts')\n",
    "min_size_category = counts[\"counts\"].min()\n",
    "\n",
    "train_balanced = pd.DataFrame()\n",
    "for cat in categories:\n",
    "    data_category = df_train[df_train[\"Label\"] == cat]\n",
    "    sample_to_concat = data_category.sample(min_size_category)\n",
    "    train_balanced = pd.concat([train_balanced, sample_to_concat], axis=0)\n",
    "\n",
    "undersample_train = train_balanced.sample(frac=1).reset_index(drop=True)\n",
    "df_test = df_test.reset_index(drop=True)"
   ]
  },
  {
   "cell_type": "code",
   "execution_count": 7,
   "id": "4a14912e",
   "metadata": {},
   "outputs": [
    {
     "data": {
      "text/plain": [
       "2    1538\n",
       "0    1538\n",
       "1    1538\n",
       "3    1538\n",
       "Name: Label, dtype: int64"
      ]
     },
     "execution_count": 7,
     "metadata": {},
     "output_type": "execute_result"
    }
   ],
   "source": [
    "undersample_train[\"Label\"].value_counts()"
   ]
  },
  {
   "cell_type": "code",
   "execution_count": 8,
   "id": "f092f81e",
   "metadata": {},
   "outputs": [],
   "source": [
    "# Undersampling test to create a more balanced dataset\n",
    "categories = sorted(df_test['Label'].unique())\n",
    "counts = df_test.groupby([\"Label\"]).size().reset_index(name='counts')\n",
    "min_size_category = counts[\"counts\"].min()\n",
    "\n",
    "test_balanced = pd.DataFrame()\n",
    "for cat in categories:\n",
    "    data_category = df_test[df_test[\"Label\"] == cat]\n",
    "    sample_to_concat = data_category.sample(min_size_category)\n",
    "    test_balanced = pd.concat([test_balanced, sample_to_concat], axis=0)\n",
    "\n",
    "undersample_test = test_balanced.sample(frac=1).reset_index(drop=True)"
   ]
  },
  {
   "cell_type": "code",
   "execution_count": 9,
   "id": "487feaf9",
   "metadata": {},
   "outputs": [
    {
     "data": {
      "text/plain": [
       "2    353\n",
       "3    353\n",
       "0    353\n",
       "1    353\n",
       "Name: Label, dtype: int64"
      ]
     },
     "execution_count": 9,
     "metadata": {},
     "output_type": "execute_result"
    }
   ],
   "source": [
    "undersample_test[\"Label\"].value_counts()"
   ]
  },
  {
   "cell_type": "markdown",
   "id": "012011ba",
   "metadata": {},
   "source": [
    "## Data exploration\n",
    "\n",
    "For the purpose of exploring the data, we will try to get insights from the distribution of raw data."
   ]
  },
  {
   "cell_type": "code",
   "execution_count": 10,
   "id": "25f322dc",
   "metadata": {},
   "outputs": [
    {
     "data": {
      "image/png": "[encoded data removed]",
      "text/plain": [
       "<Figure size 640x480 with 1 Axes>"
      ]
     },
     "metadata": {},
     "output_type": "display_data"
    }
   ],
   "source": [
    "# Plot distribution of abstracts by word length\n",
    "df_expl = pd.concat([df_train, df_test], ignore_index = True)\n",
    "plt.hist([len(t.split()) for t in df_expl['Data']], 100)\n",
    "plt.xlabel('Word length of abstract')\n",
    "plt.ylabel('Number of abstracts')\n",
    "plt.title('All data distribution')\n",
    "plt.rcParams[\"figure.figsize\"] = (18.5,10.5)\n",
    "plt.show()"
   ]
  },
  {
   "cell_type": "markdown",
   "id": "31f10f8e",
   "metadata": {},
   "source": [
    "The distribution seems fairly gaussian with an exception at more than 600 words. This is to be expected from journal requirements that demand abstracts to be 150-300 words usually."
   ]
  },
  {
   "cell_type": "code",
   "execution_count": 11,
   "id": "6883efff",
   "metadata": {},
   "outputs": [
    {
     "data": {
      "image/png": "[encoded data removed]",
      "text/plain": [
       "<Figure size 1850x1050 with 1 Axes>"
      ]
     },
     "metadata": {},
     "output_type": "display_data"
    }
   ],
   "source": [
    "# Plot distribution of Abstract by word length\n",
    "plt.hist([len(t.split()) for t in df_train['Data']], 100)\n",
    "plt.xlabel('Word length of abstracts')\n",
    "plt.ylabel('Number of abstracts')\n",
    "plt.rcParams[\"figure.figsize\"] = (18.5,10.5)\n",
    "plt.title('Training data distribution')\n",
    "plt.show()"
   ]
  },
  {
   "cell_type": "code",
   "execution_count": 12,
   "id": "d7d1c7d5",
   "metadata": {},
   "outputs": [
    {
     "data": {
      "image/png": "[encoded data removed]",
      "text/plain": [
       "<Figure size 1850x1050 with 1 Axes>"
      ]
     },
     "metadata": {},
     "output_type": "display_data"
    }
   ],
   "source": [
    "# Plot distribution of abstracts by word length\n",
    "plt.hist([len(t.split()) for t in df_test['Data']], 100)\n",
    "plt.xlabel('Word length of abstract')\n",
    "plt.ylabel('Number of abstract')\n",
    "plt.rcParams[\"figure.figsize\"] = (18.5,10.5)\n",
    "plt.title('Test data distribution')\n",
    "plt.show()"
   ]
  },
  {
   "cell_type": "markdown",
   "id": "11822ac0",
   "metadata": {},
   "source": [
    "Both training and test data distributions seem to follow mostly gaussian distributions and we can expect to not be hindered in our choice of Machine Learning model for this classification task.\n",
    "\n",
    "## Text normalization\n",
    "\n",
    "We now move to the normalization of the abstracts which entails the removal of special characters, passing all text in lower case, lemmatizing and removing stopwords.\n",
    "\n",
    "After loading the necessary libraries, we implement functions to perform text normalization and apply them to all datasets in the interim files"
   ]
  },
  {
   "cell_type": "code",
   "execution_count": 13,
   "id": "10358004",
   "metadata": {},
   "outputs": [
    {
     "name": "stderr",
     "output_type": "stream",
     "text": [
      "[nltk_data] Downloading package stopwords to\n",
      "[nltk_data]     C:\\Users\\nicol\\AppData\\Roaming\\nltk_data...\n",
      "[nltk_data]   Package stopwords is already up-to-date!\n"
     ]
    }
   ],
   "source": [
    "# Imports for text normalization\n",
    "import spacy\n",
    "import nltk\n",
    "nltk.download('stopwords')\n",
    "import re\n",
    "from nltk.tokenize.toktok import ToktokTokenizer\n",
    "# from nltk.stem.porter import PorterStemmer"
   ]
  },
  {
   "cell_type": "code",
   "execution_count": 14,
   "id": "ea6d0196",
   "metadata": {},
   "outputs": [],
   "source": [
    "# Text tokenizer\n",
    "tokenizer = ToktokTokenizer()\n",
    "stopwords = nltk.corpus.stopwords.words('english')"
   ]
  },
  {
   "cell_type": "code",
   "execution_count": 15,
   "id": "c4276ae9",
   "metadata": {},
   "outputs": [],
   "source": [
    "nlp = spacy.load(\"en_core_web_sm\")"
   ]
  },
  {
   "cell_type": "code",
   "execution_count": 16,
   "id": "780ca823",
   "metadata": {},
   "outputs": [],
   "source": [
    "# remove special characters\n",
    "def remove_special_chara(text):\n",
    "    pattern = r'[^a-zA-z0-9\\s]'\n",
    "    text = re.sub(pattern,'',text)\n",
    "    return text\n",
    "\n",
    "# lower case\n",
    "def lower_case(text):\n",
    "    text = text.lower()\n",
    "    return text\n",
    "\n",
    "# lemmatization\n",
    "def lemmatize_text(text):\n",
    "    text = nlp(text)\n",
    "    text = ' '.join([word.lemma_ if word.lemma_ != '-PRON-' else word.text for word in text])\n",
    "    return text\n",
    "\n",
    "# # stem word endings\n",
    "# # unexpected results\n",
    "# def stemmer(text):\n",
    "#     ps = nltk.porter.PorterStemmer()\n",
    "#     text = ' '.join([ps.stem(word) for word in text.split()])\n",
    "#     return(text)\n",
    "\n",
    "# remove stop words\n",
    "def remove_stopwords(text, is_lower_case=False):\n",
    "    tokens = tokenizer.tokenize(text)\n",
    "    tokens = [token.strip() for token in tokens]\n",
    "    if is_lower_case:\n",
    "        filtered_tokens = [token for token in tokens if token not in stopwords]\n",
    "    else:\n",
    "        filtered_tokens = [token for token in tokens if token.lower() not in stopwords]\n",
    "    filtered_text = ' '.join(filtered_tokens)    \n",
    "    return filtered_text"
   ]
  },
  {
   "cell_type": "code",
   "execution_count": 17,
   "id": "fc62d49e",
   "metadata": {},
   "outputs": [],
   "source": [
    "def text_normer(text):\n",
    "    text = text.apply(remove_special_chara)\n",
    "    text = text.apply(lower_case)\n",
    "#     unexpected results\n",
    "#     text = text.apply(stemmer)\n",
    "    text = text.apply(lemmatize_text)\n",
    "    text = text.apply(remove_stopwords)\n",
    "    return text"
   ]
  },
  {
   "cell_type": "markdown",
   "id": "4ada7d3d",
   "metadata": {},
   "source": [
    "The following lines can be time consuming on local setup (400seconnds on current machine). This step is the lengthiest of this notebook. We take note hear that this will be one of the bottlenecks when implementing this model in an automated and updated ML system."
   ]
  },
  {
   "cell_type": "code",
   "execution_count": 18,
   "id": "d8142367",
   "metadata": {},
   "outputs": [
    {
     "name": "stdout",
     "output_type": "stream",
     "text": [
      "Time to normalize training data: 258.25 s\n"
     ]
    }
   ],
   "source": [
    "tic = time.time()\n",
    "normalized_train = text_normer(df_train['Data'])\n",
    "print(f\"Time to normalize training data: {time.time() - tic:.2f} s\")"
   ]
  },
  {
   "cell_type": "code",
   "execution_count": 19,
   "id": "3a8adb7a",
   "metadata": {},
   "outputs": [
    {
     "name": "stdout",
     "output_type": "stream",
     "text": [
      "Time to normalize test data: 70.66 s\n"
     ]
    }
   ],
   "source": [
    "tic = time.time()\n",
    "normalized_test = text_normer(df_test['Data'])\n",
    "print(f\"Time to normalize test data: {time.time() - tic:.2f} s\")"
   ]
  },
  {
   "cell_type": "code",
   "execution_count": 20,
   "id": "eba7765b",
   "metadata": {},
   "outputs": [
    {
     "name": "stdout",
     "output_type": "stream",
     "text": [
      "Time to normalize undersampled training data: 170.63 s\n"
     ]
    }
   ],
   "source": [
    "tic = time.time()\n",
    "under_normalized_train = text_normer(undersample_train['Data'])\n",
    "print(f\"Time to normalize undersampled training data: {time.time() - tic:.2f} s\")"
   ]
  },
  {
   "cell_type": "code",
   "execution_count": 21,
   "id": "37d1b273",
   "metadata": {},
   "outputs": [
    {
     "name": "stdout",
     "output_type": "stream",
     "text": [
      "Time to normalize undersampled test data: 38.45 s\n"
     ]
    }
   ],
   "source": [
    "tic = time.time()\n",
    "under_normalized_test = text_normer(undersample_test['Data'])\n",
    "print(f\"Time to normalize undersampled test data: {time.time() - tic:.2f} s\")"
   ]
  },
  {
   "cell_type": "markdown",
   "id": "5aaaf033",
   "metadata": {},
   "source": [
    "We collect all the data and save it under the 'processed' file"
   ]
  },
  {
   "cell_type": "code",
   "execution_count": 22,
   "id": "a5d96e74",
   "metadata": {},
   "outputs": [],
   "source": [
    "# Collect data in appropriate dataframes and save\n",
    "# training data\n",
    "df_norm_train = pd.DataFrame().assign(Data = normalized_train, Label = df_train['Label'])\n",
    "# test data\n",
    "df_norm_test = pd.DataFrame().assign(Data = normalized_test, Label = df_test['Label'])\n",
    "# Undersampled train\n",
    "df_under_train = pd.DataFrame().assign(Data = under_normalized_train, Label = undersample_train['Label'])\n",
    "# Undersampled test\n",
    "df_under_test = pd.DataFrame().assign(Data = under_normalized_test, Label = undersample_test['Label'])\n",
    "\n",
    "\n",
    "# save everything as CSV\n",
    "df_norm_train.to_csv(\"../data/processed/normalized_train.csv\", index = False)\n",
    "df_norm_test.to_csv('../data/processed/normalized_test.csv', index = False)\n",
    "df_under_train.to_csv('../data/processed/undersampled_train.csv', index = False)\n",
    "df_under_test.to_csv('../data/processed/undersampled_test.csv', index = False)"
   ]
  },
  {
   "cell_type": "markdown",
   "id": "f692b7ed",
   "metadata": {},
   "source": [
    "For the purpose of further exploration, the output of the text_normer function is shown here without and with the stemmer function."
   ]
  },
  {
   "cell_type": "code",
   "execution_count": 23,
   "id": "22c05d7f",
   "metadata": {},
   "outputs": [],
   "source": [
    "# output without stemmer\n",
    "\n",
    "# 'nanostructure open shell transition metal molecular constituent host often strong electronic correlation highly sensitive atomistic material detail tutorial review discuss method development application theoretical approach consider realistic description electronic magnetic property nanostructure correlated electron first implementation flexible interface density functional theory variant dynamical mean field theory dmft highly suitable consider simulation complex correlate structure explain illustrate dmft side interface largely base recent development quantum monte carlo exact diagonalization technique allow consider efficient description general four fermion coulomb interaction reduce symmetry spinorbit coupling explain example cr 001 surface magnetic adatom molecular system show interplay hubbard u hund j determine charge spin fluctuation interaction drive different sort correlation effect inside nanosystem nonlocal interaction correlation present particular challenge consider theory low dimensional system present method development address two challenge ie advancement dynamical vertex approximation combination constrain random phase approximation continuum medium theory demonstrate nonlocal interaction correlation phenomenon control dimensionality also couple environment typically important consider determine physics nanosystem'"
   ]
  },
  {
   "cell_type": "code",
   "execution_count": 24,
   "id": "6e4f445c",
   "metadata": {},
   "outputs": [],
   "source": [
    "# output with stemmer\n",
    "# 'nanostructur open shell transit metal molecular constitu host often strong electron correl highli sensit atomist materi detail thi tutori review discuss method develop applic theoret approach consid realist descript electron magnet properti nanostructur correl electron first implement flexibl interfac densiti function theori variant dynam mean field theori dmft highli suitabl consid simul complex correl structur wa explain illustr dmft side thi interfac wa larg base recent develop quantum mont carlo exact diagon techniqu allow consid effici descript gener four fermion coulomb interact reduc symmetri spinorbit coupl explain exampl cr 001 surfac magnet adatom molecular system wa show interplay hubbard u hund j determin charg spin fluctuat interact drive differ sort correl effect insid nanosystem nonloc interact correl present particular challeng consid theori low dimension system present method develop address two challeng ie advanc dynam vertex approxim combin constrain random phase approxim continuum medium theori demonstr nonloc interact correl phenomenon control onli dimension also coupl environ wa typic import consid determin physic nanosystem'"
   ]
  }
 ],
 "metadata": {
  "kernelspec": {
   "display_name": "Python 3 (ipykernel)",
   "language": "python",
   "name": "python3"
  },
  "language_info": {
   "codemirror_mode": {
    "name": "ipython",
    "version": 3
   },
   "file_extension": ".py",
   "mimetype": "text/x-python",
   "name": "python",
   "nbconvert_exporter": "python",
   "pygments_lexer": "ipython3",
   "version": "3.9.15"
  }
 },
 "nbformat": 4,
 "nbformat_minor": 5
}
