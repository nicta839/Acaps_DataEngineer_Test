{
  "cells": [
    {
      "cell_type": "markdown",
      "source": [
        "# BiLSTMs for text classification.\n",
        "\n",
        "This notebook was run on google colab to have access to hardware acceleration in the form of GPUs. We recommend to make sure that hardware acceleration is available to improve computation time for this notebook.\n",
        "\n",
        "We first check that we have access to GPUs before implementing two BiLSTMs network for classification. We apply this model to both the full and undersampled datasets."
      ],
      "metadata": {
        "id": "__aszVT89Xri"
      }
    },
    {
      "cell_type": "code",
      "source": [
        "gpu_info = !nvidia-smi\n",
        "gpu_info = '\\n'.join(gpu_info)\n",
        "if gpu_info.find('failed') >= 0:\n",
        "  print('Not connected to a GPU')\n",
        "else:\n",
        "  print(gpu_info)"
      ],
      "metadata": {
        "colab": {
          "base_uri": "https://localhost:8080/"
        },
        "id": "OSQODSnzzDy-",
        "outputId": "65e68b64-c275-47cd-9593-1e463b64011b"
      },
      "execution_count": 4,
      "outputs": [
        {
          "output_type": "stream",
          "name": "stdout",
          "text": [
            "Mon Dec 19 11:00:31 2022       \n",
            "+-----------------------------------------------------------------------------+\n",
            "| NVIDIA-SMI 460.32.03    Driver Version: 460.32.03    CUDA Version: 11.2     |\n",
            "|-------------------------------+----------------------+----------------------+\n",
            "| GPU  Name        Persistence-M| Bus-Id        Disp.A | Volatile Uncorr. ECC |\n",
            "| Fan  Temp  Perf  Pwr:Usage/Cap|         Memory-Usage | GPU-Util  Compute M. |\n",
            "|                               |                      |               MIG M. |\n",
            "|===============================+======================+======================|\n",
            "|   0  Tesla T4            Off  | 00000000:00:04.0 Off |                    0 |\n",
            "| N/A   45C    P0    26W /  70W |      0MiB / 15109MiB |      0%      Default |\n",
            "|                               |                      |                  N/A |\n",
            "+-------------------------------+----------------------+----------------------+\n",
            "                                                                               \n",
            "+-----------------------------------------------------------------------------+\n",
            "| Processes:                                                                  |\n",
            "|  GPU   GI   CI        PID   Type   Process name                  GPU Memory |\n",
            "|        ID   ID                                                   Usage      |\n",
            "|=============================================================================|\n",
            "|  No running processes found                                                 |\n",
            "+-----------------------------------------------------------------------------+\n"
          ]
        }
      ]
    },
    {
      "cell_type": "code",
      "execution_count": 5,
      "metadata": {
        "id": "_q6F0VT3op5s"
      },
      "outputs": [],
      "source": [
        "# Setup \n",
        "import numpy as np\n",
        "import warnings\n",
        "\n",
        "# Ignore FutureWarning from NumPy\n",
        "warnings.simplefilter(action = 'ignore', category = FutureWarning)\n",
        "\n",
        "from tensorflow import keras\n",
        "from tensorflow.keras import layers\n",
        "from keras.preprocessing import sequence\n",
        "from keras.preprocessing.text import Tokenizer\n",
        "from keras.layers import Dense, LSTM\n",
        "from keras.models import Sequential\n",
        "from tensorflow.keras.layers import Embedding\n",
        "from sklearn.metrics import f1_score, classification_report\n",
        "import pandas as pd\n",
        "import numpy as npb"
      ]
    },
    {
      "cell_type": "code",
      "execution_count": 6,
      "metadata": {
        "id": "I97Sv9IMo7Ah"
      },
      "outputs": [],
      "source": [
        "df_train = pd.read_csv('normalized_train.csv')\n",
        "df_test = pd.read_csv('normalized_test.csv')\n",
        "df_under_train = pd.read_csv('undersampled_train.csv')\n",
        "df_under_test = pd.read_csv('undersampled_test.csv')"
      ]
    },
    {
      "cell_type": "code",
      "execution_count": 7,
      "metadata": {
        "id": "jvhsuTVfpAcR"
      },
      "outputs": [],
      "source": [
        "max_features = 20000  # Use top 20k words\n",
        "max_len = int(df_train[\"Data\"].str.len().max()) # Use the longest string as max length value\n",
        "embedding_dim = 128"
      ]
    },
    {
      "cell_type": "code",
      "source": [
        "max_features = 20000  # Use top 20k words\n",
        "max_len_under = int(df_under_train[\"Data\"].str.len().max()) # Use the longest string as max length value\n",
        "embedding_dim = 128"
      ],
      "metadata": {
        "id": "eoZmuxvoxemK"
      },
      "execution_count": 8,
      "outputs": []
    },
    {
      "cell_type": "code",
      "execution_count": 9,
      "metadata": {
        "colab": {
          "base_uri": "https://localhost:8080/"
        },
        "id": "kBcHu9v6pHhJ",
        "outputId": "f51ca3eb-bf08-4e0f-8e0f-026474798421"
      },
      "outputs": [
        {
          "output_type": "stream",
          "name": "stdout",
          "text": [
            "Found 46710 unique tokens.\n"
          ]
        }
      ],
      "source": [
        "tokenizer = Tokenizer(num_words=max_features, filters='!\"#$%&()*+,-./:;<=>?@[\\]^_`{|}~', lower=True)\n",
        "tokenizer.fit_on_texts(df_train['Data'].values.astype(str))\n",
        "word_index = tokenizer.word_index\n",
        "print('Found %s unique tokens.' % len(word_index))"
      ]
    },
    {
      "cell_type": "code",
      "source": [
        "tokenizer = Tokenizer(num_words=max_features, filters='!\"#$%&()*+,-./:;<=>?@[\\]^_`{|}~', lower=True)\n",
        "tokenizer.fit_on_texts(df_under_train['Data'].values.astype(str))\n",
        "word_index = tokenizer.word_index\n",
        "print('Found %s unique tokens for undersampled data.' % len(word_index))"
      ],
      "metadata": {
        "colab": {
          "base_uri": "https://localhost:8080/"
        },
        "id": "wsEnC-DTxpJ8",
        "outputId": "aeca5c94-a9ed-4c4d-dc38-bac3fa354f58"
      },
      "execution_count": 10,
      "outputs": [
        {
          "output_type": "stream",
          "name": "stdout",
          "text": [
            "Found 34784 unique tokens for undersampled data.\n"
          ]
        }
      ]
    },
    {
      "cell_type": "code",
      "execution_count": 11,
      "metadata": {
        "id": "N6et6Rh1pL0m"
      },
      "outputs": [],
      "source": [
        "def tokenize_for_lstm(X, Y, MAX_NB_WORDS=max_features, MAX_SEQUENCE_LENGTH=max_len):\n",
        "    X = tokenizer.texts_to_sequences(X.values)\n",
        "    X = keras.preprocessing.sequence.pad_sequences(X, maxlen=MAX_SEQUENCE_LENGTH)\n",
        "    print(f'Shape of data tensor: {X.shape}')\n",
        "    Y = pd.get_dummies(Y).values\n",
        "    print(f'Shape of label tensor: {Y.shape}')\n",
        "    return X, Y"
      ]
    },
    {
      "cell_type": "code",
      "execution_count": 12,
      "metadata": {
        "colab": {
          "base_uri": "https://localhost:8080/"
        },
        "id": "eB2llJi_pOFh",
        "outputId": "70e1a900-a34b-48fc-8604-992fe7a44a82"
      },
      "outputs": [
        {
          "output_type": "stream",
          "name": "stdout",
          "text": [
            "Shape of data tensor: (9446, 3448)\n",
            "Shape of label tensor: (9446, 4)\n"
          ]
        }
      ],
      "source": [
        "X_train_tokenized, Y_train_tokenized = tokenize_for_lstm(df_train['Data'], df_train['Label'])"
      ]
    },
    {
      "cell_type": "code",
      "execution_count": 13,
      "metadata": {
        "colab": {
          "base_uri": "https://localhost:8080/"
        },
        "id": "QV2CmTccpR1w",
        "outputId": "22fe194d-081b-4a5c-aefd-b776907a23d9"
      },
      "outputs": [
        {
          "output_type": "stream",
          "name": "stdout",
          "text": [
            "Shape of data tensor: (2354, 3448)\n",
            "Shape of label tensor: (2354, 4)\n"
          ]
        }
      ],
      "source": [
        "X_test_tokenized, Y_test_tokenized = tokenize_for_lstm(df_test['Data'], df_test['Label'])"
      ]
    },
    {
      "cell_type": "code",
      "source": [
        "X_train_tokenized_under, Y_train_tokenized_under = tokenize_for_lstm(df_under_train['Data'], df_under_train['Label'])"
      ],
      "metadata": {
        "colab": {
          "base_uri": "https://localhost:8080/"
        },
        "id": "jYTVpoYax0vx",
        "outputId": "baa63ea0-39f3-4fa8-fb6e-f98d90e5e546"
      },
      "execution_count": 14,
      "outputs": [
        {
          "output_type": "stream",
          "name": "stdout",
          "text": [
            "Shape of data tensor: (6152, 3448)\n",
            "Shape of label tensor: (6152, 4)\n"
          ]
        }
      ]
    },
    {
      "cell_type": "code",
      "source": [
        "X_test_tokenized_under, Y_test_tokenized_under = tokenize_for_lstm(df_under_test['Data'], df_under_test['Label'])"
      ],
      "metadata": {
        "colab": {
          "base_uri": "https://localhost:8080/"
        },
        "id": "azOKAmXtx012",
        "outputId": "e9210fec-6b18-447d-b775-0f220afbe074"
      },
      "execution_count": 15,
      "outputs": [
        {
          "output_type": "stream",
          "name": "stdout",
          "text": [
            "Shape of data tensor: (1412, 3448)\n",
            "Shape of label tensor: (1412, 4)\n"
          ]
        }
      ]
    },
    {
      "cell_type": "markdown",
      "source": [
        "## BiLSTM for the full dataset\n",
        "\n",
        "Here we apply the BiLSTM model for the full dataset and analyze the results by producing the precision, recall and f1-score."
      ],
      "metadata": {
        "id": "NrAOa1yB-u6J"
      }
    },
    {
      "cell_type": "code",
      "execution_count": 16,
      "metadata": {
        "colab": {
          "base_uri": "https://localhost:8080/"
        },
        "id": "2LbkrlPypVhK",
        "outputId": "6d921513-c303-4b65-912b-097d6775cf48"
      },
      "outputs": [
        {
          "output_type": "stream",
          "name": "stdout",
          "text": [
            "Epoch 1/5\n",
            "133/133 [==============================] - 74s 476ms/step - loss: 0.7954 - accuracy: 0.6779 - val_loss: 0.5372 - val_accuracy: 0.8053\n",
            "Epoch 2/5\n",
            "133/133 [==============================] - 62s 469ms/step - loss: 0.4049 - accuracy: 0.8492 - val_loss: 0.4170 - val_accuracy: 0.8455\n",
            "Epoch 3/5\n",
            "133/133 [==============================] - 63s 476ms/step - loss: 0.2383 - accuracy: 0.9245 - val_loss: 0.4086 - val_accuracy: 0.8561\n",
            "Epoch 4/5\n",
            "133/133 [==============================] - 63s 471ms/step - loss: 0.1477 - accuracy: 0.9559 - val_loss: 0.4739 - val_accuracy: 0.8434\n",
            "Epoch 5/5\n",
            "133/133 [==============================] - 62s 469ms/step - loss: 0.0870 - accuracy: 0.9764 - val_loss: 0.5490 - val_accuracy: 0.8328\n"
          ]
        }
      ],
      "source": [
        "# Setup \n",
        "import warnings\n",
        "\n",
        "# Ignore FutureWarning from NumPy\n",
        "warnings.simplefilter(action = 'ignore', category = FutureWarning)\n",
        "\n",
        "import tensorflow as tf\n",
        "from tensorflow import keras\n",
        "from keras.datasets import imdb\n",
        "from keras.preprocessing import sequence\n",
        "from keras.layers import Dense, LSTM\n",
        "from keras.models import Sequential\n",
        "from keras.layers import Embedding\n",
        "from tensorflow.keras.layers import Bidirectional\n",
        "\n",
        "model = Sequential()\n",
        "model.add(Embedding(max_features, embedding_dim, input_length=X_train_tokenized.shape[1]))\n",
        "model.add(Bidirectional(LSTM(64, return_sequences = True)))\n",
        "model.add(Bidirectional(LSTM(64, dropout=0.2)))\n",
        "model.add(Dense(4, activation='softmax'))\n",
        "model.compile(loss='categorical_crossentropy', optimizer='adam', metrics=['accuracy'])\n",
        "\n",
        "epochs = 5\n",
        "batch_size = 64\n",
        "\n",
        "history = model.fit(X_train_tokenized, Y_train_tokenized, epochs=epochs, batch_size=batch_size, validation_split=0.1, callbacks=[tf.keras.callbacks.EarlyStopping(monitor='val_loss', patience=3, min_delta=0.0001)])"
      ]
    },
    {
      "cell_type": "code",
      "source": [
        "model.summary()"
      ],
      "metadata": {
        "colab": {
          "base_uri": "https://localhost:8080/"
        },
        "id": "9UHXlm0yzSuV",
        "outputId": "f6583cb6-fe5d-44dd-acdc-6fbc6a905788"
      },
      "execution_count": 17,
      "outputs": [
        {
          "output_type": "stream",
          "name": "stdout",
          "text": [
            "Model: \"sequential\"\n",
            "_________________________________________________________________\n",
            " Layer (type)                Output Shape              Param #   \n",
            "=================================================================\n",
            " embedding (Embedding)       (None, 3448, 128)         2560000   \n",
            "                                                                 \n",
            " bidirectional (Bidirectiona  (None, 3448, 128)        98816     \n",
            " l)                                                              \n",
            "                                                                 \n",
            " bidirectional_1 (Bidirectio  (None, 128)              98816     \n",
            " nal)                                                            \n",
            "                                                                 \n",
            " dense (Dense)               (None, 4)                 516       \n",
            "                                                                 \n",
            "=================================================================\n",
            "Total params: 2,758,148\n",
            "Trainable params: 2,758,148\n",
            "Non-trainable params: 0\n",
            "_________________________________________________________________\n"
          ]
        }
      ]
    },
    {
      "cell_type": "code",
      "source": [
        "history_dict = history.history\n",
        "acc = history_dict['accuracy']\n",
        "val_acc = history_dict['val_accuracy']\n",
        "loss = history_dict['loss']\n",
        "val_loss = history_dict['val_loss']\n",
        "epochs = range(1, len(acc) + 1)\n",
        "\n",
        "import matplotlib.pyplot as plt\n",
        "\n",
        "plt.rcParams[\"figure.figsize\"] = (10.0, 6.0)\n",
        "plt.plot(epochs, acc, '-r', label = 'Train accuracy')\n",
        "plt.plot(epochs, val_acc, '-b', label = 'Valid accuracy')\n",
        "plt.xlabel('Epoch')\n",
        "plt.ylabel('Accuracy')\n",
        "plt.title('Train & valid accuracy')\n",
        "plt.legend(loc = 4)\n",
        "plt.show()"
      ],
      "metadata": {
        "colab": {
          "base_uri": "https://localhost:8080/",
          "height": 404
        },
        "id": "ViBud4s2zSJE",
        "outputId": "5f27ffdc-ee3f-4d23-8850-c4e3842e3d62"
      },
      "execution_count": 18,
      "outputs": [
        {
          "output_type": "display_data",
          "data": {
            "text/plain": [
              "<Figure size 720x432 with 1 Axes>"
            ],
            "image/png": "[encoded data removed]"
          },
          "metadata": {
            "needs_background": "light"
          }
        }
      ]
    },
    {
      "cell_type": "code",
      "execution_count": 19,
      "metadata": {
        "id": "lSMenm0KpcCv",
        "colab": {
          "base_uri": "https://localhost:8080/"
        },
        "outputId": "b40d2377-beea-4e0e-930f-8a9ba901aaee"
      },
      "outputs": [
        {
          "output_type": "stream",
          "name": "stdout",
          "text": [
            "74/74 [==============================] - 13s 169ms/step - loss: 0.5651 - accuracy: 0.8292\n",
            "Test set\n",
            "  Loss: 0.565\n",
            "  Accuracy: 0.829\n"
          ]
        }
      ],
      "source": [
        "accr = model.evaluate(X_test_tokenized, Y_test_tokenized)\n",
        "print('Test set\\n  Loss: {:0.3f}\\n  Accuracy: {:0.3f}'.format(accr[0],accr[1]))"
      ]
    },
    {
      "cell_type": "code",
      "source": [
        "# Predictions on test_data\n",
        "Y_pred = model.predict(X_test_tokenized)\n",
        "Y_pred = np.argmax(Y_pred, axis = 1)\n",
        "\n",
        "# Predictions on test_data\n",
        "Y_test_tokenized = np.argmax(Y_test_tokenized, axis = 1)\n",
        "\n",
        "# Evaluate model reporting accuracy, precision, recall and F1\n",
        "print(classification_report(Y_test_tokenized, Y_pred))"
      ],
      "metadata": {
        "colab": {
          "base_uri": "https://localhost:8080/"
        },
        "id": "cmqlnyDn2yfO",
        "outputId": "a4ec0803-cb58-4e97-dd4a-181b3b01b225"
      },
      "execution_count": 20,
      "outputs": [
        {
          "output_type": "stream",
          "name": "stdout",
          "text": [
            "74/74 [==============================] - 14s 169ms/step\n",
            "              precision    recall  f1-score   support\n",
            "\n",
            "           0       0.80      0.82      0.81       840\n",
            "           1       0.92      0.83      0.87       353\n",
            "           2       0.93      0.96      0.95       785\n",
            "           3       0.60      0.58      0.59       376\n",
            "\n",
            "    accuracy                           0.83      2354\n",
            "   macro avg       0.81      0.80      0.80      2354\n",
            "weighted avg       0.83      0.83      0.83      2354\n",
            "\n"
          ]
        }
      ]
    },
    {
      "cell_type": "markdown",
      "source": [
        "## BiLSTM for text classification with undersampled dataset\n",
        "\n",
        "We perform the same work than in the previous section on the undersampled dataset. We do not modify the model and network for this task to ensure fair comparison between the two datasets."
      ],
      "metadata": {
        "id": "BgLcxn-zAEqs"
      }
    },
    {
      "cell_type": "code",
      "source": [
        "# Setup \n",
        "import warnings\n",
        "\n",
        "# Ignore FutureWarning from NumPy\n",
        "warnings.simplefilter(action = 'ignore', category = FutureWarning)\n",
        "\n",
        "import tensorflow as tf\n",
        "from tensorflow import keras\n",
        "from keras.datasets import imdb\n",
        "from keras.preprocessing import sequence\n",
        "from keras.layers import Dense, LSTM\n",
        "from keras.models import Sequential\n",
        "from keras.layers import Embedding\n",
        "from tensorflow.keras.layers import Bidirectional\n",
        "\n",
        "model_under = Sequential()\n",
        "model_under.add(Embedding(max_features, embedding_dim, input_length=X_train_tokenized_under.shape[1]))\n",
        "model_under.add(Bidirectional(LSTM(64, return_sequences = True)))\n",
        "model_under.add(Bidirectional(LSTM(64, dropout=0.2)))\n",
        "model_under.add(Dense(4, activation='softmax'))\n",
        "model_under.compile(loss='categorical_crossentropy', optimizer='adam', metrics=['accuracy'])\n",
        "\n",
        "epochs = 5\n",
        "batch_size = 64\n",
        "\n",
        "history_under = model_under.fit(X_train_tokenized_under, Y_train_tokenized_under, epochs=epochs, batch_size=batch_size, validation_split=0.1, callbacks=[tf.keras.callbacks.EarlyStopping(monitor='val_loss', patience=3, min_delta=0.0001)])"
      ],
      "metadata": {
        "colab": {
          "base_uri": "https://localhost:8080/"
        },
        "id": "P5PH4KSsykrd",
        "outputId": "b3bfcfac-199b-4cb4-9196-7c02d14ae166"
      },
      "execution_count": 21,
      "outputs": [
        {
          "output_type": "stream",
          "name": "stdout",
          "text": [
            "Epoch 1/5\n",
            "87/87 [==============================] - 47s 484ms/step - loss: 0.8684 - accuracy: 0.5854 - val_loss: 0.5103 - val_accuracy: 0.7094\n",
            "Epoch 2/5\n",
            "87/87 [==============================] - 41s 475ms/step - loss: 0.4382 - accuracy: 0.7849 - val_loss: 0.4980 - val_accuracy: 0.7922\n",
            "Epoch 3/5\n",
            "87/87 [==============================] - 41s 470ms/step - loss: 0.2401 - accuracy: 0.9129 - val_loss: 0.4935 - val_accuracy: 0.8231\n",
            "Epoch 4/5\n",
            "87/87 [==============================] - 40s 464ms/step - loss: 0.1331 - accuracy: 0.9615 - val_loss: 0.5912 - val_accuracy: 0.8133\n",
            "Epoch 5/5\n",
            "87/87 [==============================] - 40s 464ms/step - loss: 0.0672 - accuracy: 0.9827 - val_loss: 0.7192 - val_accuracy: 0.8036\n"
          ]
        }
      ]
    },
    {
      "cell_type": "code",
      "source": [
        "history_dict_under = history_under.history\n",
        "acc_under = history_dict_under['accuracy']\n",
        "val_acc_under = history_dict_under['val_accuracy']\n",
        "loss_under = history_dict_under['loss']\n",
        "val_loss_under = history_dict_under['val_loss']\n",
        "epochs = range(1, len(acc_under) + 1)\n",
        "\n",
        "import matplotlib.pyplot as plt\n",
        "\n",
        "plt.rcParams[\"figure.figsize\"] = (10.0, 6.0)\n",
        "plt.plot(epochs, acc_under, '-r', label = 'Train accuracy')\n",
        "plt.plot(epochs, val_acc_under, '-b', label = 'Valid accuracy')\n",
        "plt.xlabel('Epoch')\n",
        "plt.ylabel('Accuracy')\n",
        "plt.title('Train & valid accuracy for undersampled dataset')\n",
        "plt.legend(loc = 4)\n",
        "plt.show()\n"
      ],
      "metadata": {
        "colab": {
          "base_uri": "https://localhost:8080/",
          "height": 404
        },
        "id": "j41Q0xTNq_pH",
        "outputId": "4a388543-86fb-4832-b25f-30ecc19af8a1"
      },
      "execution_count": 22,
      "outputs": [
        {
          "output_type": "display_data",
          "data": {
            "text/plain": [
              "<Figure size 720x432 with 1 Axes>"
            ],
            "image/png": "[encoded data removed]"
          },
          "metadata": {
            "needs_background": "light"
          }
        }
      ]
    },
    {
      "cell_type": "code",
      "source": [
        "accr_under = model.evaluate(X_test_tokenized_under, Y_test_tokenized_under)\n",
        "print('Test set (undersampled data)\\n  Loss: {:0.3f}\\n  Accuracy: {:0.3f}'.format(accr_under[0],accr_under[1]))"
      ],
      "metadata": {
        "colab": {
          "base_uri": "https://localhost:8080/"
        },
        "id": "M5s3iotIqE0z",
        "outputId": "7df1fb2c-aff3-4188-be62-33591a124226"
      },
      "execution_count": 23,
      "outputs": [
        {
          "output_type": "stream",
          "name": "stdout",
          "text": [
            "45/45 [==============================] - 7s 164ms/step - loss: 0.6786 - accuracy: 0.7989\n",
            "Test set (undersampled data)\n",
            "  Loss: 0.679\n",
            "  Accuracy: 0.799\n"
          ]
        }
      ]
    },
    {
      "cell_type": "code",
      "source": [
        "# Predictions on test_data\n",
        "Y_pred_under = model.predict(X_test_tokenized_under)\n",
        "Y_pred_under = np.argmax(Y_pred_under, axis = 1)\n",
        "\n",
        "# Predictions on test_data\n",
        "Y_test_tokenized_under = np.argmax(Y_test_tokenized_under, axis = 1)\n",
        "\n",
        "# Evaluate model reporting accuracy, precision, recall and F1\n",
        "print(classification_report(Y_test_tokenized_under, Y_pred_under))"
      ],
      "metadata": {
        "colab": {
          "base_uri": "https://localhost:8080/"
        },
        "id": "1x3Hnnkf23A9",
        "outputId": "c1041f4e-eb36-4dad-805b-c6b8ed60bdf8"
      },
      "execution_count": 24,
      "outputs": [
        {
          "output_type": "stream",
          "name": "stdout",
          "text": [
            "45/45 [==============================] - 7s 161ms/step\n",
            "              precision    recall  f1-score   support\n",
            "\n",
            "           0       0.65      0.81      0.72       353\n",
            "           1       0.95      0.83      0.89       353\n",
            "           2       0.89      0.96      0.93       353\n",
            "           3       0.73      0.59      0.65       353\n",
            "\n",
            "    accuracy                           0.80      1412\n",
            "   macro avg       0.81      0.80      0.80      1412\n",
            "weighted avg       0.81      0.80      0.80      1412\n",
            "\n"
          ]
        }
      ]
    },
    {
      "cell_type": "markdown",
      "source": [
        "We observe an decrease in performance on the computed metrics except for the class 3 (Statistics) that sees an increase in performance most likely due to the undersampling that reduces the bias of the dataset due to class distributions."
      ],
      "metadata": {
        "id": "6IV70OkIAcZs"
      }
    },
    {
      "cell_type": "code",
      "source": [
        "# We save both models as pickle files for further use\n",
        "\n",
        "import pickle\n",
        "\n",
        "# save the model to disk\n",
        "with open('bilstm_model.sav', 'wb') as f:\n",
        "  pickle.dump(model, f)\n",
        "\n",
        "# Save other model to disk\n",
        "filename_under = 'bilstm_model_undersampled.sav'\n",
        "with open('bilstm_model_undersampled.sav', 'wb') as f:\n",
        "  pickle.dump(model_under, f)"
      ],
      "metadata": {
        "colab": {
          "base_uri": "https://localhost:8080/"
        },
        "id": "pDjV1LsUrf_p",
        "outputId": "8c2a6b02-08bc-4acb-e178-4e64b50e1f98"
      },
      "execution_count": 25,
      "outputs": [
        {
          "output_type": "stream",
          "name": "stderr",
          "text": [
            "WARNING:absl:Found untraced functions such as lstm_cell_1_layer_call_fn, lstm_cell_1_layer_call_and_return_conditional_losses, lstm_cell_2_layer_call_fn, lstm_cell_2_layer_call_and_return_conditional_losses, lstm_cell_4_layer_call_fn while saving (showing 5 of 8). These functions will not be directly callable after loading.\n",
            "WARNING:absl:Found untraced functions such as lstm_cell_7_layer_call_fn, lstm_cell_7_layer_call_and_return_conditional_losses, lstm_cell_8_layer_call_fn, lstm_cell_8_layer_call_and_return_conditional_losses, lstm_cell_10_layer_call_fn while saving (showing 5 of 8). These functions will not be directly callable after loading.\n"
          ]
        }
      ]
    },
    {
      "cell_type": "markdown",
      "source": [
        "## ROC curves for full and undersampled datasets\n",
        "\n",
        "We find the ROC curves for the one-vs-rest of the class 'Statistics' (class 3). We also present the micro-averaged ROC curves as they are better suited to describe the true underlying ROC for multiclass classification and the one-vs-rest ROC interpretation."
      ],
      "metadata": {
        "id": "GnI_-llIA5hB"
      }
    },
    {
      "cell_type": "code",
      "source": [
        "from sklearn.preprocessing import LabelBinarizer\n",
        "\n",
        "label_binarizer = LabelBinarizer().fit(Y_train_tokenized)\n",
        "y_onehot_test = label_binarizer.transform(Y_test_tokenized)\n",
        "y_onehot_test.shape  # (n_samples, n_classes)"
      ],
      "metadata": {
        "colab": {
          "base_uri": "https://localhost:8080/"
        },
        "id": "9DM4fg3ai-TS",
        "outputId": "87c5afa0-ad13-4302-cc55-6fdff65f9395"
      },
      "execution_count": 26,
      "outputs": [
        {
          "output_type": "execute_result",
          "data": {
            "text/plain": [
              "(2354, 4)"
            ]
          },
          "metadata": {},
          "execution_count": 26
        }
      ]
    },
    {
      "cell_type": "code",
      "source": [
        "class_of_interest = 3\n",
        "class_id = np.flatnonzero(label_binarizer.classes_ == class_of_interest)[0]\n",
        "class_id"
      ],
      "metadata": {
        "colab": {
          "base_uri": "https://localhost:8080/"
        },
        "id": "amrEU2HjjvCS",
        "outputId": "cc4d84d1-65ff-4f72-b3d5-3ef2587cb12a"
      },
      "execution_count": 27,
      "outputs": [
        {
          "output_type": "execute_result",
          "data": {
            "text/plain": [
              "3"
            ]
          },
          "metadata": {},
          "execution_count": 27
        }
      ]
    },
    {
      "cell_type": "code",
      "source": [
        "import matplotlib.pyplot as plt\n",
        "from sklearn.metrics import RocCurveDisplay\n",
        "\n",
        "RocCurveDisplay.from_predictions(\n",
        "    y_onehot_test[:, class_id],\n",
        "    model.predict(X_test_tokenized)[:, class_id],\n",
        "    name=f\"{class_of_interest} vs the rest\",\n",
        "    color=\"darkorange\",\n",
        ")\n",
        "plt.plot([0, 1], [0, 1], \"k--\", label=\"chance level (AUC = 0.5)\")\n",
        "plt.axis(\"square\")\n",
        "plt.xlabel(\"False Positive Rate\")\n",
        "plt.ylabel(\"True Positive Rate\")\n",
        "plt.title(\"One-vs-Rest ROC curves:\\nStatistics vs (Computer Science, Mathematics & Physics)\\nFull Dataset\")\n",
        "plt.legend()\n",
        "plt.show()"
      ],
      "metadata": {
        "colab": {
          "base_uri": "https://localhost:8080/",
          "height": 451
        },
        "id": "noiK7tEkj81e",
        "outputId": "92ce054b-9e52-44d4-f0b7-9c79a7e57180"
      },
      "execution_count": 28,
      "outputs": [
        {
          "output_type": "stream",
          "name": "stdout",
          "text": [
            "74/74 [==============================] - 13s 173ms/step\n"
          ]
        },
        {
          "output_type": "display_data",
          "data": {
            "text/plain": [
              "<Figure size 720x432 with 1 Axes>"
            ],
            "image/png": "[encoded data removed]"
          },
          "metadata": {
            "needs_background": "light"
          }
        }
      ]
    },
    {
      "cell_type": "code",
      "source": [
        "RocCurveDisplay.from_predictions(\n",
        "    y_onehot_test.ravel(),\n",
        "    model.predict(X_test_tokenized).ravel(),\n",
        "    name=\"micro-average OvR\",\n",
        "    color=\"darkorange\",\n",
        ")\n",
        "plt.plot([0, 1], [0, 1], \"k--\", label=\"chance level (AUC = 0.5)\")\n",
        "plt.axis(\"square\")\n",
        "plt.xlabel(\"False Positive Rate\")\n",
        "plt.ylabel(\"True Positive Rate\")\n",
        "plt.title(\"Micro-averaged One-vs-Rest\\nReceiver Operating Characteristic\\nFull Dataset\")\n",
        "plt.legend()\n",
        "plt.show()"
      ],
      "metadata": {
        "colab": {
          "base_uri": "https://localhost:8080/",
          "height": 451
        },
        "id": "4zSyP4URlqdk",
        "outputId": "1cd0d33e-a490-456e-9d5a-16616901843a"
      },
      "execution_count": 29,
      "outputs": [
        {
          "output_type": "stream",
          "name": "stdout",
          "text": [
            "74/74 [==============================] - 12s 166ms/step\n"
          ]
        },
        {
          "output_type": "display_data",
          "data": {
            "text/plain": [
              "<Figure size 720x432 with 1 Axes>"
            ],
            "image/png": "[encoded data removed]"
          },
          "metadata": {
            "needs_background": "light"
          }
        }
      ]
    },
    {
      "cell_type": "code",
      "source": [
        "# undersampled case\n",
        "\n",
        "\n",
        "from sklearn.preprocessing import LabelBinarizer\n",
        "\n",
        "label_binarizer = LabelBinarizer().fit(Y_train_tokenized_under)\n",
        "y_onehot_test = label_binarizer.transform(Y_test_tokenized_under)\n",
        "y_onehot_test.shape  # (n_samples, n_classes)"
      ],
      "metadata": {
        "colab": {
          "base_uri": "https://localhost:8080/"
        },
        "id": "nlz9ppBE0b4T",
        "outputId": "1849d1c7-ec98-479a-f84d-016d6e9c2185"
      },
      "execution_count": 30,
      "outputs": [
        {
          "output_type": "execute_result",
          "data": {
            "text/plain": [
              "(1412, 4)"
            ]
          },
          "metadata": {},
          "execution_count": 30
        }
      ]
    },
    {
      "cell_type": "code",
      "source": [
        "class_of_interest = 3\n",
        "class_id = np.flatnonzero(label_binarizer.classes_ == class_of_interest)[0]\n",
        "class_id"
      ],
      "metadata": {
        "colab": {
          "base_uri": "https://localhost:8080/"
        },
        "id": "CGUJKjT15UKG",
        "outputId": "089ffb86-1e2b-40f9-c2c2-ff233be78415"
      },
      "execution_count": 31,
      "outputs": [
        {
          "output_type": "execute_result",
          "data": {
            "text/plain": [
              "3"
            ]
          },
          "metadata": {},
          "execution_count": 31
        }
      ]
    },
    {
      "cell_type": "code",
      "source": [
        "import matplotlib.pyplot as plt\n",
        "from sklearn.metrics import RocCurveDisplay\n",
        "\n",
        "RocCurveDisplay.from_predictions(\n",
        "    y_onehot_test[:, class_id],\n",
        "    model.predict(X_test_tokenized_under)[:, class_id],\n",
        "    name=f\"{class_of_interest} vs the rest\",\n",
        "    color=\"darkorange\",\n",
        ")\n",
        "plt.plot([0, 1], [0, 1], \"k--\", label=\"chance level (AUC = 0.5)\")\n",
        "plt.axis(\"square\")\n",
        "plt.xlabel(\"False Positive Rate\")\n",
        "plt.ylabel(\"True Positive Rate\")\n",
        "plt.title(\"One-vs-Rest ROC curves:\\nStatistics vs (Computer Science, Mathematics & Physics)\\nUndersampled data\")\n",
        "plt.legend()\n",
        "plt.show()"
      ],
      "metadata": {
        "colab": {
          "base_uri": "https://localhost:8080/",
          "height": 451
        },
        "id": "tiLsp9QQ5WwE",
        "outputId": "841c2d0a-108c-495c-bf9a-3e87b349730d"
      },
      "execution_count": 32,
      "outputs": [
        {
          "output_type": "stream",
          "name": "stdout",
          "text": [
            "45/45 [==============================] - 8s 173ms/step\n"
          ]
        },
        {
          "output_type": "display_data",
          "data": {
            "text/plain": [
              "<Figure size 720x432 with 1 Axes>"
            ],
            "image/png": "[encoded data removed]"
          },
          "metadata": {
            "needs_background": "light"
          }
        }
      ]
    },
    {
      "cell_type": "code",
      "source": [
        "RocCurveDisplay.from_predictions(\n",
        "    y_onehot_test.ravel(),\n",
        "    model.predict(X_test_tokenized_under).ravel(),\n",
        "    name=\"micro-average OvR\",\n",
        "    color=\"darkorange\",\n",
        ")\n",
        "plt.plot([0, 1], [0, 1], \"k--\", label=\"chance level (AUC = 0.5)\")\n",
        "plt.axis(\"square\")\n",
        "plt.xlabel(\"False Positive Rate\")\n",
        "plt.ylabel(\"True Positive Rate\")\n",
        "plt.title(\"Micro-averaged One-vs-Rest\\nReceiver Operating Characteristic\\nUndersampled dataset\")\n",
        "plt.legend()\n",
        "plt.show()"
      ],
      "metadata": {
        "colab": {
          "base_uri": "https://localhost:8080/",
          "height": 451
        },
        "id": "k-p2VOzu5n2w",
        "outputId": "fecdfa17-64be-4490-db81-0e6c52e13aeb"
      },
      "execution_count": 33,
      "outputs": [
        {
          "output_type": "stream",
          "name": "stdout",
          "text": [
            "45/45 [==============================] - 8s 167ms/step\n"
          ]
        },
        {
          "output_type": "display_data",
          "data": {
            "text/plain": [
              "<Figure size 720x432 with 1 Axes>"
            ],
            "image/png": "[encoded data removed]"
          },
          "metadata": {
            "needs_background": "light"
          }
        }
      ]
    }
  ],
  "metadata": {
    "accelerator": "GPU",
    "colab": {
      "provenance": []
    },
    "gpuClass": "standard",
    "kernelspec": {
      "display_name": "Python 3",
      "name": "python3"
    },
    "language_info": {
      "name": "python"
    }
  },
  "nbformat": 4,
  "nbformat_minor": 0
}